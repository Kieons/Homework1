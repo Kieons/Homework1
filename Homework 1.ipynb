{
 "cells": [
  {
   "cell_type": "markdown",
   "metadata": {},
   "source": [
    "Jack Li Machine Learning STEMsub Homework 1"
   ]
  },
  {
   "cell_type": "code",
   "execution_count": 10,
   "metadata": {},
   "outputs": [],
   "source": [
    "sys.path.append(\"/workspace/.pyenv_mirror/user/3.8.13/lib/python3.8/site-packages\")  \n",
    "\n",
    "import pandas as pd\n",
    "import numpy as np\n",
    "import matplotlib.pyplot as plt\n"
   ]
  },
  {
   "cell_type": "code",
   "execution_count": 11,
   "metadata": {},
   "outputs": [],
   "source": [
    "data = pd.read_csv('PunxPhil.csv') # importing the punxphil data"
   ]
  },
  {
   "cell_type": "code",
   "execution_count": 12,
   "metadata": {},
   "outputs": [
    {
     "data": {
      "text/html": [
       "<div>\n",
       "<style scoped>\n",
       "    .dataframe tbody tr th:only-of-type {\n",
       "        vertical-align: middle;\n",
       "    }\n",
       "\n",
       "    .dataframe tbody tr th {\n",
       "        vertical-align: top;\n",
       "    }\n",
       "\n",
       "    .dataframe thead th {\n",
       "        text-align: right;\n",
       "    }\n",
       "</style>\n",
       "<table border=\"1\" class=\"dataframe\">\n",
       "  <thead>\n",
       "    <tr style=\"text-align: right;\">\n",
       "      <th></th>\n",
       "      <th>Year</th>\n",
       "      <th>Punxsutawney Phil</th>\n",
       "      <th>February Average Temperature</th>\n",
       "      <th>February Average Temperature (Northeast)</th>\n",
       "      <th>February Average Temperature (Midwest)</th>\n",
       "      <th>February Average Temperature (Pennsylvania)</th>\n",
       "      <th>March Average Temperature</th>\n",
       "      <th>March Average Temperature (Northeast)</th>\n",
       "      <th>March Average Temperature (Midwest)</th>\n",
       "      <th>March Average Temperature (Pennsylvania)</th>\n",
       "    </tr>\n",
       "  </thead>\n",
       "  <tbody>\n",
       "    <tr>\n",
       "      <th>0</th>\n",
       "      <td>1886</td>\n",
       "      <td>No Record</td>\n",
       "      <td>NaN</td>\n",
       "      <td>NaN</td>\n",
       "      <td>NaN</td>\n",
       "      <td>NaN</td>\n",
       "      <td>NaN</td>\n",
       "      <td>NaN</td>\n",
       "      <td>NaN</td>\n",
       "      <td>NaN</td>\n",
       "    </tr>\n",
       "    <tr>\n",
       "      <th>1</th>\n",
       "      <td>1887</td>\n",
       "      <td>Full Shadow</td>\n",
       "      <td>NaN</td>\n",
       "      <td>NaN</td>\n",
       "      <td>NaN</td>\n",
       "      <td>NaN</td>\n",
       "      <td>NaN</td>\n",
       "      <td>NaN</td>\n",
       "      <td>NaN</td>\n",
       "      <td>NaN</td>\n",
       "    </tr>\n",
       "    <tr>\n",
       "      <th>2</th>\n",
       "      <td>1888</td>\n",
       "      <td>Full Shadow</td>\n",
       "      <td>NaN</td>\n",
       "      <td>NaN</td>\n",
       "      <td>NaN</td>\n",
       "      <td>NaN</td>\n",
       "      <td>NaN</td>\n",
       "      <td>NaN</td>\n",
       "      <td>NaN</td>\n",
       "      <td>NaN</td>\n",
       "    </tr>\n",
       "    <tr>\n",
       "      <th>3</th>\n",
       "      <td>1889</td>\n",
       "      <td>No Record</td>\n",
       "      <td>NaN</td>\n",
       "      <td>NaN</td>\n",
       "      <td>NaN</td>\n",
       "      <td>NaN</td>\n",
       "      <td>NaN</td>\n",
       "      <td>NaN</td>\n",
       "      <td>NaN</td>\n",
       "      <td>NaN</td>\n",
       "    </tr>\n",
       "    <tr>\n",
       "      <th>4</th>\n",
       "      <td>1890</td>\n",
       "      <td>No Shadow</td>\n",
       "      <td>NaN</td>\n",
       "      <td>NaN</td>\n",
       "      <td>NaN</td>\n",
       "      <td>NaN</td>\n",
       "      <td>NaN</td>\n",
       "      <td>NaN</td>\n",
       "      <td>NaN</td>\n",
       "      <td>NaN</td>\n",
       "    </tr>\n",
       "  </tbody>\n",
       "</table>\n",
       "</div>"
      ],
      "text/plain": [
       "   Year Punxsutawney Phil  February Average Temperature  \\\n",
       "0  1886         No Record                           NaN   \n",
       "1  1887       Full Shadow                           NaN   \n",
       "2  1888       Full Shadow                           NaN   \n",
       "3  1889         No Record                           NaN   \n",
       "4  1890         No Shadow                           NaN   \n",
       "\n",
       "   February Average Temperature (Northeast)  \\\n",
       "0                                       NaN   \n",
       "1                                       NaN   \n",
       "2                                       NaN   \n",
       "3                                       NaN   \n",
       "4                                       NaN   \n",
       "\n",
       "   February Average Temperature (Midwest)  \\\n",
       "0                                     NaN   \n",
       "1                                     NaN   \n",
       "2                                     NaN   \n",
       "3                                     NaN   \n",
       "4                                     NaN   \n",
       "\n",
       "   February Average Temperature (Pennsylvania)  March Average Temperature  \\\n",
       "0                                          NaN                        NaN   \n",
       "1                                          NaN                        NaN   \n",
       "2                                          NaN                        NaN   \n",
       "3                                          NaN                        NaN   \n",
       "4                                          NaN                        NaN   \n",
       "\n",
       "   March Average Temperature (Northeast)  March Average Temperature (Midwest)  \\\n",
       "0                                    NaN                                  NaN   \n",
       "1                                    NaN                                  NaN   \n",
       "2                                    NaN                                  NaN   \n",
       "3                                    NaN                                  NaN   \n",
       "4                                    NaN                                  NaN   \n",
       "\n",
       "   March Average Temperature (Pennsylvania)  \n",
       "0                                       NaN  \n",
       "1                                       NaN  \n",
       "2                                       NaN  \n",
       "3                                       NaN  \n",
       "4                                       NaN  "
      ]
     },
     "execution_count": 12,
     "metadata": {},
     "output_type": "execute_result"
    }
   ],
   "source": [
    "data.head()"
   ]
  },
  {
   "cell_type": "code",
   "execution_count": 13,
   "metadata": {},
   "outputs": [],
   "source": [
    "data['Punxsutawney Phil'].replace(['No Record', 'No Shadow','Partial Shadow','Full Shadow'], #Replaces the qualitative data with qualitative data in in Punxsutawney Phil\n",
    "                        [-1,0,1,2], inplace=True)"
   ]
  },
  {
   "cell_type": "code",
   "execution_count": 14,
   "metadata": {},
   "outputs": [
    {
     "data": {
      "text/html": [
       "<div>\n",
       "<style scoped>\n",
       "    .dataframe tbody tr th:only-of-type {\n",
       "        vertical-align: middle;\n",
       "    }\n",
       "\n",
       "    .dataframe tbody tr th {\n",
       "        vertical-align: top;\n",
       "    }\n",
       "\n",
       "    .dataframe thead th {\n",
       "        text-align: right;\n",
       "    }\n",
       "</style>\n",
       "<table border=\"1\" class=\"dataframe\">\n",
       "  <thead>\n",
       "    <tr style=\"text-align: right;\">\n",
       "      <th></th>\n",
       "      <th>Year</th>\n",
       "      <th>Punxsutawney Phil</th>\n",
       "      <th>February Average Temperature</th>\n",
       "      <th>February Average Temperature (Northeast)</th>\n",
       "      <th>February Average Temperature (Midwest)</th>\n",
       "      <th>February Average Temperature (Pennsylvania)</th>\n",
       "      <th>March Average Temperature</th>\n",
       "      <th>March Average Temperature (Northeast)</th>\n",
       "      <th>March Average Temperature (Midwest)</th>\n",
       "      <th>March Average Temperature (Pennsylvania)</th>\n",
       "    </tr>\n",
       "  </thead>\n",
       "  <tbody>\n",
       "    <tr>\n",
       "      <th>9</th>\n",
       "      <td>1895</td>\n",
       "      <td>-1.0</td>\n",
       "      <td>26.60</td>\n",
       "      <td>15.6</td>\n",
       "      <td>21.9</td>\n",
       "      <td>17.0</td>\n",
       "      <td>39.97</td>\n",
       "      <td>27.6</td>\n",
       "      <td>40.2</td>\n",
       "      <td>31.3</td>\n",
       "    </tr>\n",
       "    <tr>\n",
       "      <th>10</th>\n",
       "      <td>1896</td>\n",
       "      <td>-1.0</td>\n",
       "      <td>35.04</td>\n",
       "      <td>22.2</td>\n",
       "      <td>33.5</td>\n",
       "      <td>26.6</td>\n",
       "      <td>38.03</td>\n",
       "      <td>25.3</td>\n",
       "      <td>36.9</td>\n",
       "      <td>27.8</td>\n",
       "    </tr>\n",
       "    <tr>\n",
       "      <th>11</th>\n",
       "      <td>1897</td>\n",
       "      <td>-1.0</td>\n",
       "      <td>33.39</td>\n",
       "      <td>23.6</td>\n",
       "      <td>34.7</td>\n",
       "      <td>27.9</td>\n",
       "      <td>38.79</td>\n",
       "      <td>32.0</td>\n",
       "      <td>44.0</td>\n",
       "      <td>36.9</td>\n",
       "    </tr>\n",
       "    <tr>\n",
       "      <th>12</th>\n",
       "      <td>1898</td>\n",
       "      <td>2.0</td>\n",
       "      <td>35.37</td>\n",
       "      <td>24.8</td>\n",
       "      <td>33.3</td>\n",
       "      <td>26.7</td>\n",
       "      <td>41.05</td>\n",
       "      <td>38.0</td>\n",
       "      <td>46.0</td>\n",
       "      <td>42.0</td>\n",
       "    </tr>\n",
       "    <tr>\n",
       "      <th>13</th>\n",
       "      <td>1899</td>\n",
       "      <td>-1.0</td>\n",
       "      <td>25.50</td>\n",
       "      <td>18.1</td>\n",
       "      <td>22.2</td>\n",
       "      <td>20.0</td>\n",
       "      <td>37.63</td>\n",
       "      <td>29.3</td>\n",
       "      <td>38.4</td>\n",
       "      <td>34.0</td>\n",
       "    </tr>\n",
       "    <tr>\n",
       "      <th>...</th>\n",
       "      <td>...</td>\n",
       "      <td>...</td>\n",
       "      <td>...</td>\n",
       "      <td>...</td>\n",
       "      <td>...</td>\n",
       "      <td>...</td>\n",
       "      <td>...</td>\n",
       "      <td>...</td>\n",
       "      <td>...</td>\n",
       "      <td>...</td>\n",
       "    </tr>\n",
       "    <tr>\n",
       "      <th>126</th>\n",
       "      <td>2012</td>\n",
       "      <td>2.0</td>\n",
       "      <td>37.51</td>\n",
       "      <td>30.6</td>\n",
       "      <td>38.6</td>\n",
       "      <td>34.3</td>\n",
       "      <td>50.41</td>\n",
       "      <td>43.4</td>\n",
       "      <td>56.3</td>\n",
       "      <td>47.7</td>\n",
       "    </tr>\n",
       "    <tr>\n",
       "      <th>127</th>\n",
       "      <td>2013</td>\n",
       "      <td>0.0</td>\n",
       "      <td>34.77</td>\n",
       "      <td>25.3</td>\n",
       "      <td>33.4</td>\n",
       "      <td>27.4</td>\n",
       "      <td>40.91</td>\n",
       "      <td>32.7</td>\n",
       "      <td>37.3</td>\n",
       "      <td>33.9</td>\n",
       "    </tr>\n",
       "    <tr>\n",
       "      <th>128</th>\n",
       "      <td>2014</td>\n",
       "      <td>2.0</td>\n",
       "      <td>32.13</td>\n",
       "      <td>21.0</td>\n",
       "      <td>27.1</td>\n",
       "      <td>22.8</td>\n",
       "      <td>40.51</td>\n",
       "      <td>26.0</td>\n",
       "      <td>38.0</td>\n",
       "      <td>30.3</td>\n",
       "    </tr>\n",
       "    <tr>\n",
       "      <th>129</th>\n",
       "      <td>2015</td>\n",
       "      <td>2.0</td>\n",
       "      <td>32.99</td>\n",
       "      <td>12.1</td>\n",
       "      <td>23.4</td>\n",
       "      <td>16.1</td>\n",
       "      <td>45.39</td>\n",
       "      <td>27.8</td>\n",
       "      <td>41.6</td>\n",
       "      <td>31.6</td>\n",
       "    </tr>\n",
       "    <tr>\n",
       "      <th>130</th>\n",
       "      <td>2016</td>\n",
       "      <td>0.0</td>\n",
       "      <td>39.47</td>\n",
       "      <td>28.1</td>\n",
       "      <td>36.9</td>\n",
       "      <td>30.8</td>\n",
       "      <td>47.50</td>\n",
       "      <td>38.8</td>\n",
       "      <td>49.5</td>\n",
       "      <td>43.4</td>\n",
       "    </tr>\n",
       "  </tbody>\n",
       "</table>\n",
       "<p>122 rows × 10 columns</p>\n",
       "</div>"
      ],
      "text/plain": [
       "     Year  Punxsutawney Phil  February Average Temperature  \\\n",
       "9    1895               -1.0                         26.60   \n",
       "10   1896               -1.0                         35.04   \n",
       "11   1897               -1.0                         33.39   \n",
       "12   1898                2.0                         35.37   \n",
       "13   1899               -1.0                         25.50   \n",
       "..    ...                ...                           ...   \n",
       "126  2012                2.0                         37.51   \n",
       "127  2013                0.0                         34.77   \n",
       "128  2014                2.0                         32.13   \n",
       "129  2015                2.0                         32.99   \n",
       "130  2016                0.0                         39.47   \n",
       "\n",
       "     February Average Temperature (Northeast)  \\\n",
       "9                                        15.6   \n",
       "10                                       22.2   \n",
       "11                                       23.6   \n",
       "12                                       24.8   \n",
       "13                                       18.1   \n",
       "..                                        ...   \n",
       "126                                      30.6   \n",
       "127                                      25.3   \n",
       "128                                      21.0   \n",
       "129                                      12.1   \n",
       "130                                      28.1   \n",
       "\n",
       "     February Average Temperature (Midwest)  \\\n",
       "9                                      21.9   \n",
       "10                                     33.5   \n",
       "11                                     34.7   \n",
       "12                                     33.3   \n",
       "13                                     22.2   \n",
       "..                                      ...   \n",
       "126                                    38.6   \n",
       "127                                    33.4   \n",
       "128                                    27.1   \n",
       "129                                    23.4   \n",
       "130                                    36.9   \n",
       "\n",
       "     February Average Temperature (Pennsylvania)  March Average Temperature  \\\n",
       "9                                           17.0                      39.97   \n",
       "10                                          26.6                      38.03   \n",
       "11                                          27.9                      38.79   \n",
       "12                                          26.7                      41.05   \n",
       "13                                          20.0                      37.63   \n",
       "..                                           ...                        ...   \n",
       "126                                         34.3                      50.41   \n",
       "127                                         27.4                      40.91   \n",
       "128                                         22.8                      40.51   \n",
       "129                                         16.1                      45.39   \n",
       "130                                         30.8                      47.50   \n",
       "\n",
       "     March Average Temperature (Northeast)  \\\n",
       "9                                     27.6   \n",
       "10                                    25.3   \n",
       "11                                    32.0   \n",
       "12                                    38.0   \n",
       "13                                    29.3   \n",
       "..                                     ...   \n",
       "126                                   43.4   \n",
       "127                                   32.7   \n",
       "128                                   26.0   \n",
       "129                                   27.8   \n",
       "130                                   38.8   \n",
       "\n",
       "     March Average Temperature (Midwest)  \\\n",
       "9                                   40.2   \n",
       "10                                  36.9   \n",
       "11                                  44.0   \n",
       "12                                  46.0   \n",
       "13                                  38.4   \n",
       "..                                   ...   \n",
       "126                                 56.3   \n",
       "127                                 37.3   \n",
       "128                                 38.0   \n",
       "129                                 41.6   \n",
       "130                                 49.5   \n",
       "\n",
       "     March Average Temperature (Pennsylvania)  \n",
       "9                                        31.3  \n",
       "10                                       27.8  \n",
       "11                                       36.9  \n",
       "12                                       42.0  \n",
       "13                                       34.0  \n",
       "..                                        ...  \n",
       "126                                      47.7  \n",
       "127                                      33.9  \n",
       "128                                      30.3  \n",
       "129                                      31.6  \n",
       "130                                      43.4  \n",
       "\n",
       "[122 rows x 10 columns]"
      ]
     },
     "execution_count": 14,
     "metadata": {},
     "output_type": "execute_result"
    }
   ],
   "source": [
    "data = data.dropna() # Deletes the NaN in the data so that I could graph it\n",
    "\n",
    "data \n",
    "\n"
   ]
  },
  {
   "cell_type": "code",
   "execution_count": 15,
   "metadata": {},
   "outputs": [
    {
     "data": {
      "text/plain": [
       "<AxesSubplot:ylabel='Frequency'>"
      ]
     },
     "execution_count": 15,
     "metadata": {},
     "output_type": "execute_result"
    },
    {
     "data": {
      "image/png": "[encoded data removed]",
      "text/plain": [
       "<Figure size 432x288 with 1 Axes>"
      ]
     },
     "metadata": {
      "needs_background": "light"
     },
     "output_type": "display_data"
    }
   ],
   "source": [
    "data.plot(kind='hist', x='Punxsutawney Phil', y='February Average Temperature', bins=15) #graphs how frequent a shadow comes from temp\n"
   ]
  },
  {
   "cell_type": "code",
   "execution_count": 16,
   "metadata": {},
   "outputs": [
    {
     "data": {
      "text/plain": [
       "<AxesSubplot:xlabel='Punxsutawney Phil', ylabel='February Average Temperature'>"
      ]
     },
     "execution_count": 16,
     "metadata": {},
     "output_type": "execute_result"
    },
    {
     "data": {
      "image/png": "[encoded data removed]",
      "text/plain": [
       "<Figure size 432x288 with 1 Axes>"
      ]
     },
     "metadata": {
      "needs_background": "light"
     },
     "output_type": "display_data"
    }
   ],
   "source": [
    "data.plot(kind='scatter',x='Punxsutawney Phil', y='February Average Temperature')#graphs how frequent a shadow comes from temp"
   ]
  },
  {
   "cell_type": "markdown",
   "metadata": {},
   "source": [
    "Is there a correlation between shadow sightings and the overall February temperature?\n",
    "\n",
    "Yes there is a correlation between them when the temperature is in the thirties the amount of shaodow sightings increases."
   ]
  },
  {
   "cell_type": "code",
   "execution_count": 17,
   "metadata": {},
   "outputs": [
    {
     "data": {
      "text/plain": [
       "<AxesSubplot:xlabel='March Average Temperature', ylabel='February Average Temperature'>"
      ]
     },
     "execution_count": 17,
     "metadata": {},
     "output_type": "execute_result"
    },
    {
     "data": {
      "image/png": "[encoded data removed]",
      "text/plain": [
       "<Figure size 432x288 with 1 Axes>"
      ]
     },
     "metadata": {
      "needs_background": "light"
     },
     "output_type": "display_data"
    }
   ],
   "source": [
    "data.plot(kind='scatter',x='March Average Temperature', y='February Average Temperature') # graphs the average temperature of Febuary and March against each other"
   ]
  },
  {
   "cell_type": "markdown",
   "metadata": {},
   "source": [
    "How do the march temperatures compare to February?\n",
    "\n",
    "It would seem that about 1/2 of March temeratures are about 6 degrees highers than February temperature."
   ]
  },
  {
   "cell_type": "code",
   "execution_count": 18,
   "metadata": {},
   "outputs": [
    {
     "data": {
      "text/plain": [
       "<AxesSubplot:xlabel='February Average Temperature (Pennsylvania)', ylabel='March Average Temperature (Pennsylvania)'>"
      ]
     },
     "execution_count": 18,
     "metadata": {},
     "output_type": "execute_result"
    },
    {
     "data": {
      "image/png": "[encoded data removed]",
      "text/plain": [
       "<Figure size 432x288 with 1 Axes>"
      ]
     },
     "metadata": {
      "needs_background": "light"
     },
     "output_type": "display_data"
    }
   ],
   "source": [
    "data.plot(kind='scatter',x='February Average Temperature (Pennsylvania)', y='March Average Temperature (Pennsylvania)') \n",
    "#graphs the average temperature of Febuary and March against each other in the Pennsylvania"
   ]
  },
  {
   "cell_type": "markdown",
   "metadata": {},
   "source": [
    "How do the March temperatures compare to February temperatures in the Pennsylvania?\n",
    "\n",
    "It would seem that about 1/2 of March temperature in the Pennsylvania is about 10 degress warmer than Febuary temperature."
   ]
  },
  {
   "cell_type": "markdown",
   "metadata": {},
   "source": [
    "I have found that March temperature is usually higher than Febuary temperature and that when the temperature is in the (mid) thirties for febuary the shadow sightings increase in frequency."
   ]
  }
 ],
 "metadata": {
  "kernelspec": {
   "display_name": "Python 3.8.13 64-bit ('3.8.13')",
   "language": "python",
   "name": "python3"
  },
  "language_info": {
   "codemirror_mode": {
    "name": "ipython",
    "version": 3
   },
   "file_extension": ".py",
   "mimetype": "text/x-python",
   "name": "python",
   "nbconvert_exporter": "python",
   "pygments_lexer": "ipython3",
   "version": "3.8.13"
  },
  "vscode": {
   "interpreter": {
    "hash": "110cc1dee26208153f2972f08a2ad52b6a56238dc66d48e87fb757ef2996db56"
   }
  }
 },
 "nbformat": 4,
 "nbformat_minor": 2
}
